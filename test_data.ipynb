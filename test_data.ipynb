{
 "cells": [
  {
   "cell_type": "code",
   "execution_count": 4,
   "metadata": {},
   "outputs": [],
   "source": [
    "import requests\n",
    "import json\n"
   ]
  },
  {
   "cell_type": "code",
   "execution_count": 5,
   "metadata": {},
   "outputs": [],
   "source": [
    "id = \"test_monkey\""
   ]
  },
  {
   "cell_type": "code",
   "execution_count": 6,
   "metadata": {},
   "outputs": [
    {
     "name": "stdout",
     "output_type": "stream",
     "text": [
      "POST request was successful!\n",
      "Returned message: {\"id\":\"88cf343b-4080-4d30-8de9-dfa905d6eb9b\",\"team_name\":\"test_monkey\",\"data\":{\"producer\":{\"to_storage\":[],\"to_consumption\":[],\"to_grid\":[]},\"consumer\":{\"consumption\":[]},\"storage\":{\"capacity\":250.0,\"charge\":[{\"timestamp\":\"2024-05-03T18:25:18.253661379+03:00\",\"value\":0.0,\"unit\":\"kW\"}],\"to_consumption\":[],\"to_grid\":[]},\"grid\":{\"to_storage\":[],\"to_consumption\":[]}},\"building_params\":{\"stor_to_con_alloc\":0.0,\"stor_to_grid_alloc\":0.0,\"prod_to_con_alloc\":0.0,\"prod_to_stor_alloc\":0.0,\"prod_to_grid_alloc\":1.0,\"grid_to_stor_alloc\":0.0}}\n"
     ]
    }
   ],
   "source": [
    "# Define the URL to which you want to send the POST request\n",
    "url = 'https://hackathon.kvanttori.fi/buildings/create'\n",
    "\n",
    "data = {\n",
    "    \"team_name\": f\"{id}\"\n",
    "}\n",
    "\n",
    "# Convert the data to JSON format\n",
    "json_data = json.dumps(data)\n",
    "\n",
    "# Set the headers to indicate that the data is in JSON format\n",
    "headers = {'Content-Type': 'application/json'}\n",
    "\n",
    "# Send the POST request with JSON data and headers\n",
    "response = requests.post(url, data=json_data, headers=headers)\n",
    "\n",
    "# Check if the request was successful (status code 200)\n",
    "if response.status_code == 200:\n",
    "    print(\"POST request was successful!\")\n",
    "    id_response = response.text\n",
    "    print(\"Returned message:\", id_response)\n",
    "else:\n",
    "    print(\"POST request failed with status code:\", response.status_code)"
   ]
  },
  {
   "cell_type": "code",
   "execution_count": 10,
   "metadata": {},
   "outputs": [],
   "source": [
    "json_response = json.loads(id_response)"
   ]
  },
  {
   "cell_type": "code",
   "execution_count": 14,
   "metadata": {},
   "outputs": [],
   "source": [
    "ID = json_response[\"id\"]"
   ]
  },
  {
   "cell_type": "code",
   "execution_count": 16,
   "metadata": {},
   "outputs": [
    {
     "name": "stdout",
     "output_type": "stream",
     "text": [
      "88cf343b-4080-4d30-8de9-dfa905d6eb9b\n"
     ]
    }
   ],
   "source": [
    "print(f\"{ID}\")"
   ]
  },
  {
   "cell_type": "code",
   "execution_count": null,
   "metadata": {},
   "outputs": [],
   "source": []
  }
 ],
 "metadata": {
  "kernelspec": {
   "display_name": "hackathon",
   "language": "python",
   "name": "python3"
  },
  "language_info": {
   "codemirror_mode": {
    "name": "ipython",
    "version": 3
   },
   "file_extension": ".py",
   "mimetype": "text/x-python",
   "name": "python",
   "nbconvert_exporter": "python",
   "pygments_lexer": "ipython3",
   "version": "3.12.3"
  }
 },
 "nbformat": 4,
 "nbformat_minor": 2
}
